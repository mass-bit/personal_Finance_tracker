{
 "cells": [
  {
   "cell_type": "markdown",
   "metadata": {},
   "source": [
    "## Function "
   ]
  },
  {
   "cell_type": "markdown",
   "metadata": {},
   "source": [
    "### 1. Basic Function Definition\n",
    "Write a function greet that takes a person's name as input and prints a greeting: \"Hello, [name]!\".\n",
    "\n",
    "### 2. Function with Parameters and Return\n",
    "Create a function add_numbers that takes two numbers as arguments and returns their sum.\n",
    "\n",
    "### 3. Default Arguments\n",
    "Define a function multiply that multiplies two numbers. If only one number is provided, the function should multiply the number by 2 (i.e., use a default argument).\n",
    "\n",
    "### 4. Keyword Arguments\n",
    "Write a function student_info that accepts a student's name, age, and grade. It should allow calling the function using keyword arguments.\n",
    "\n",
    "### 5. Variable-Length Arguments\n",
    "Create a function sum_all that accepts any number of numerical arguments and returns their sum.\n",
    "\n",
    "### 6. Functions with Lists\n",
    "Write a function find_max that accepts a list of numbers and returns the maximum value from the list.\n",
    "\n",
    "### 7. Lambda Functions\n",
    "Write a lambda function that takes two arguments and returns their product. Test it by calling it with two numbers.\n",
    "\n",
    "### 8. Functions as Arguments\n",
    "Define a function apply_function that takes another function and two arguments, then applies the function to the arguments. Use it with a lambda function that adds two numbers.\n",
    "\n",
    "### 9. Recursion\n",
    "Write a recursive function factorial that returns the factorial of a number.\n",
    "\n",
    "### 10. Higher-Order Functions\n",
    "Write a function filter_even that accepts a list of numbers and returns a list of only the even numbers. Use Python’s built-in filter() function with a lambda function.\n",
    "\n",
    "### 11. Anonymous (Lambda) Functions and Map\n",
    "Write a function that takes a list of integers and returns a new list where each element is squared. Use the map() function and a lambda function for this.\n",
    "\n",
    "### 12. Functions with Dictionaries\n",
    "Create a function get_price that takes a dictionary of product names and their prices. The function should take a product name as input and return the price of that product.\n",
    "\n",
    "### 13. Nested Functions\n",
    "Write a function outer that contains another function inner. outer should return the result of calling inner.\n",
    "\n",
    "### 14. Functions with Tuples\n",
    "Write a function swap_values that takes two arguments and returns them in reverse order (i.e., as a tuple).\n",
    "\n",
    "### 15. Closures\n",
    "Write a function multiplier that takes a number n as input and returns a function that multiplies its input by n."
   ]
  },
  {
   "cell_type": "markdown",
   "metadata": {},
   "source": [
    "### Basic function definition \n",
    "- Write a function greet that takes a person's name as input and prints a greeting: \"Hello, [name]!\"."
   ]
  },
  {
   "cell_type": "code",
   "execution_count": 8,
   "metadata": {},
   "outputs": [
    {
     "name": "stdout",
     "output_type": "stream",
     "text": [
      "Hello, Mass!\n"
     ]
    }
   ],
   "source": [
    "def person(name):\n",
    "    print(f\"Hello, {name}!\")\n",
    "\n",
    "person(input(\"Enter name\"))"
   ]
  },
  {
   "cell_type": "markdown",
   "metadata": {},
   "source": [
    "### Function with Parameters and Return\n",
    "- Create a function add_numbers that takes two numbers as arguments and returns their sum."
   ]
  },
  {
   "cell_type": "code",
   "execution_count": 11,
   "metadata": {},
   "outputs": [
    {
     "name": "stdout",
     "output_type": "stream",
     "text": [
      "The sum of 34 and 45 is: 79\n"
     ]
    }
   ],
   "source": [
    "# This is my code it is not correct\n",
    "# def addtion(a,b):\n",
    "#     c= a+b\n",
    "#     print(f\"The Sum of 'a' and 'b' is: {c}\")\n",
    "# a= int(input(\"Enter A\"))\n",
    "# b= int(input(\"Enter B\"))\n",
    "# addtion(a,b)\n",
    "\n",
    "\n",
    "def addtion(a,b):\n",
    "    c= a+b\n",
    "    return c\n",
    "a = int(input(\"Enter A: \"))\n",
    "b = int(input(\"Enter B: \"))\n",
    "result= addtion(a,b)\n",
    "print(f\"The sum of {a} and {b} is: {result}\")\n"
   ]
  },
  {
   "cell_type": "markdown",
   "metadata": {},
   "source": [
    "### Let assume that I want to write a Empty function So how can I do that ___"
   ]
  },
  {
   "cell_type": "code",
   "execution_count": 12,
   "metadata": {},
   "outputs": [],
   "source": [
    "def empty_func(a,b):\n",
    "    pass"
   ]
  },
  {
   "cell_type": "markdown",
   "metadata": {},
   "source": [
    "### Function Argument and return Statement \n",
    "There are four types of argument that we can provide in a funtion:\n",
    "- Default Argument \n",
    "- Keword Argument\n",
    "- Variable length Argument\n",
    "- Required Argument"
   ]
  },
  {
   "cell_type": "markdown",
   "metadata": {},
   "source": [
    "#### Default Argument \n",
    "- We can provide a default value while creating a funtion."
   ]
  },
  {
   "cell_type": "code",
   "execution_count": 13,
   "metadata": {},
   "outputs": [
    {
     "name": "stdout",
     "output_type": "stream",
     "text": [
      "Hello mass Cross Bull\n"
     ]
    }
   ],
   "source": [
    "def name(fname, mname=\"Cross\", lname=\"Bull\"):\n",
    "    print(\"Hello\", fname, mname, lname)\n",
    "name(\"mass\")"
   ]
  },
  {
   "cell_type": "markdown",
   "metadata": {},
   "source": [
    "> Define a function multiply that multiplies two numbers. If only one number is provided, the function should multiply the number by 2 (i.e., use a default argument)."
   ]
  },
  {
   "cell_type": "code",
   "execution_count": 15,
   "metadata": {},
   "outputs": [
    {
     "name": "stdout",
     "output_type": "stream",
     "text": [
      "Result: 10\n"
     ]
    }
   ],
   "source": [
    "# def multiply(Num1,fixed_valu=2):\n",
    "#     value= Num1*fixed_valu\n",
    "#     return value\n",
    "# multiply(5)\n",
    "\n",
    "# improve code\n",
    "\n",
    "def multiply(Num1, fixed_valu=2):\n",
    "    value = Num1 * fixed_valu\n",
    "    return value\n",
    "\n",
    "result = multiply(5)\n",
    "print(f\"Result: {result}\")"
   ]
  },
  {
   "cell_type": "markdown",
   "metadata": {},
   "source": [
    "### Keyword Arguments\n",
    "> Write a function student_info that accepts a student's name, age, and grade. It should allow calling the function using keyword arguments."
   ]
  },
  {
   "cell_type": "code",
   "execution_count": 21,
   "metadata": {},
   "outputs": [
    {
     "name": "stdout",
     "output_type": "stream",
     "text": [
      "Name: Mass\n",
      "Age: 23\n",
      "Grade: 99\n",
      "Name: Mass\n",
      "Age: 24\n",
      "Grade: 1\n"
     ]
    }
   ],
   "source": [
    "def student_info(name, age, grade):\n",
    "    print(f\"Name: {name}\\nAge: {age}\\nGrade: {grade}\")\n",
    "\n",
    "# You can call the function with positional arguments (like before)\n",
    "name = input(\"Enter your name: \")\n",
    "age = int(input(\"Enter your age: \"))\n",
    "grade = int(input(\"Enter your grade: \"))\n",
    "student_info(name, age, grade)\n",
    "\n",
    "# Or, call the function with keyword arguments:\n",
    "student_info(name=\"Mass\", age=24, grade=1)\n"
   ]
  },
  {
   "cell_type": "markdown",
   "metadata": {},
   "source": [
    "### Variable-Length Arguments\n",
    "- Create a function average that accepts any number of numerical arguments and returns their average."
   ]
  },
  {
   "cell_type": "code",
   "execution_count": 1,
   "metadata": {},
   "outputs": [
    {
     "name": "stdout",
     "output_type": "stream",
     "text": [
      "Average is:  7.0\n"
     ]
    }
   ],
   "source": [
    "def average(*num):\n",
    "    sum=0\n",
    "    for i in num:\n",
    "        sum= sum+i\n",
    "    print(\"Average is: \", sum/len(num))\n",
    "\n",
    "average(5,6,7,8,9)"
   ]
  },
  {
   "cell_type": "markdown",
   "metadata": {},
   "source": [
    "### Lambda Functions\n",
    "- Write a lambda function that takes two arguments and returns their product. Test it by calling it with two numbers."
   ]
  },
  {
   "cell_type": "code",
   "execution_count": 2,
   "metadata": {},
   "outputs": [
    {
     "name": "stdout",
     "output_type": "stream",
     "text": [
      "The product of 5 and 3 is: 15\n"
     ]
    }
   ],
   "source": [
    "# Lambda function to calculate the product of two numbers\n",
    "product = lambda a, b: a * b\n",
    "\n",
    "# Testing the lambda function by calling it with two numbers\n",
    "result = product(5, 3)\n",
    "print(f\"The product of 5 and 3 is: {result}\")\n"
   ]
  },
  {
   "cell_type": "code",
   "execution_count": null,
   "metadata": {},
   "outputs": [],
   "source": []
  }
 ],
 "metadata": {
  "kernelspec": {
   "display_name": "Python 3",
   "language": "python",
   "name": "python3"
  },
  "language_info": {
   "codemirror_mode": {
    "name": "ipython",
    "version": 3
   },
   "file_extension": ".py",
   "mimetype": "text/x-python",
   "name": "python",
   "nbconvert_exporter": "python",
   "pygments_lexer": "ipython3",
   "version": "3.11.0"
  }
 },
 "nbformat": 4,
 "nbformat_minor": 2
}
