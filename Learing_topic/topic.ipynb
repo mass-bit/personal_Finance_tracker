{
 "cells": [
  {
   "cell_type": "markdown",
   "metadata": {},
   "source": [
    "## Class and Object"
   ]
  },
  {
   "cell_type": "markdown",
   "metadata": {},
   "source": [
    "### What is a Class?\n",
    "A class is like a blueprint for creating objects (like templates).\n",
    "\n",
    "It defines the properties (things the object has) and methods (things the object can do)."
   ]
  },
  {
   "cell_type": "code",
   "execution_count": 3,
   "metadata": {},
   "outputs": [
    {
     "name": "stdout",
     "output_type": "stream",
     "text": [
      "50\n"
     ]
    }
   ],
   "source": [
    "class first:\n",
    "    x=50\n",
    "obj= first()\n",
    "print(obj.x)"
   ]
  },
  {
   "cell_type": "markdown",
   "metadata": {},
   "source": [
    "### Class Parameters (Attributes):\n",
    "Parameters or attributes are like characteristics of the class, which describe the object.\n",
    "\n",
    "For example, in a \"Car\" class, the attributes could be things like color, brand, and speed."
   ]
  },
  {
   "cell_type": "markdown",
   "metadata": {},
   "source": [
    "Another example with using method"
   ]
  },
  {
   "cell_type": "code",
   "execution_count": 7,
   "metadata": {},
   "outputs": [
    {
     "name": "stdout",
     "output_type": "stream",
     "text": [
      "The red Toyota is driving at 100 km/h!\n",
      "The red Toyota has stopped.\n"
     ]
    }
   ],
   "source": [
    "class Car:\n",
    "    def __init__(self, color, brand, speed):\n",
    "        self.color = color\n",
    "        self.brand = brand\n",
    "        self.speed = speed\n",
    "    \n",
    "    def drive(self):\n",
    "        print(f'The {self.color} {self.brand} is driving at {self.speed} km/h!')\n",
    "    \n",
    "    def stop(self):\n",
    "        print(f'The {self.color} {self.brand} has stopped.')\n",
    "\n",
    "my_car = Car('red', 'Toyota', 100)  # Create a new Car object\n",
    "my_car.drive()  # Call the drive method\n",
    "my_car.stop()   # Call the stop method\n"
   ]
  },
  {
   "cell_type": "markdown",
   "metadata": {},
   "source": [
    "### Class Methods:\n",
    "Methods are like actions or functions inside the class that the object can perform.\n",
    "\n",
    "For example, a car can \"drive\" or \"stop.\""
   ]
  },
  {
   "cell_type": "code",
   "execution_count": 5,
   "metadata": {},
   "outputs": [
    {
     "name": "stdout",
     "output_type": "stream",
     "text": [
      "Faculty Id:  1\n",
      "Faculty Name:  Mass\n",
      "Faculty Salary:  7000000.0\n"
     ]
    }
   ],
   "source": [
    "class faculty:\n",
    "    def putdata(self): #method 1\n",
    "        self.id= int(input(\"Enter faculty Id: \"))\n",
    "        self.name= input(\"Enter Name: \")\n",
    "        self.salary= float(input(\"Enter Salary: \"))\n",
    "    \n",
    "    def display(self): # method 2\n",
    "        print(\"Faculty Id: \", self.id)\n",
    "        print(\"Faculty Name: \", self.name)\n",
    "        print(\"Faculty Salary: \", self.salary)\n",
    "data= faculty()\n",
    "data.putdata()\n",
    "data.display()"
   ]
  }
 ],
 "metadata": {
  "kernelspec": {
   "display_name": "Python 3",
   "language": "python",
   "name": "python3"
  },
  "language_info": {
   "codemirror_mode": {
    "name": "ipython",
    "version": 3
   },
   "file_extension": ".py",
   "mimetype": "text/x-python",
   "name": "python",
   "nbconvert_exporter": "python",
   "pygments_lexer": "ipython3",
   "version": "3.11.0"
  }
 },
 "nbformat": 4,
 "nbformat_minor": 2
}
